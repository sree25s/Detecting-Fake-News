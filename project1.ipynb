{
 "cells": [
  {
   "cell_type": "code",
   "execution_count": 1,
   "id": "834330ab",
   "metadata": {},
   "outputs": [],
   "source": [
    "import pandas as pd\n",
    "import numpy as np"
   ]
  },
  {
   "cell_type": "code",
   "execution_count": 2,
   "id": "bc81bada",
   "metadata": {},
   "outputs": [
    {
     "data": {
      "text/html": [
       "<div>\n",
       "<style scoped>\n",
       "    .dataframe tbody tr th:only-of-type {\n",
       "        vertical-align: middle;\n",
       "    }\n",
       "\n",
       "    .dataframe tbody tr th {\n",
       "        vertical-align: top;\n",
       "    }\n",
       "\n",
       "    .dataframe thead th {\n",
       "        text-align: right;\n",
       "    }\n",
       "</style>\n",
       "<table border=\"1\" class=\"dataframe\">\n",
       "  <thead>\n",
       "    <tr style=\"text-align: right;\">\n",
       "      <th></th>\n",
       "      <th>Date</th>\n",
       "      <th>Headline</th>\n",
       "      <th>Tire</th>\n",
       "      <th>review</th>\n",
       "    </tr>\n",
       "  </thead>\n",
       "  <tbody>\n",
       "    <tr>\n",
       "      <th>0</th>\n",
       "      <td>41:25.5</td>\n",
       "      <td>England won 2019 world cup.</td>\n",
       "      <td>1</td>\n",
       "      <td>TRUE</td>\n",
       "    </tr>\n",
       "    <tr>\n",
       "      <th>1</th>\n",
       "      <td>48:35.1</td>\n",
       "      <td>Atletico Madrid won the spanish league this se...</td>\n",
       "      <td>1</td>\n",
       "      <td>TRUE</td>\n",
       "    </tr>\n",
       "    <tr>\n",
       "      <th>2</th>\n",
       "      <td>48:36.1</td>\n",
       "      <td>Manchester United won the Europa league 2021</td>\n",
       "      <td>5</td>\n",
       "      <td>Fake</td>\n",
       "    </tr>\n",
       "    <tr>\n",
       "      <th>3</th>\n",
       "      <td>48:37.1</td>\n",
       "      <td>Corona virus is irradicated</td>\n",
       "      <td>5</td>\n",
       "      <td>Fake</td>\n",
       "    </tr>\n",
       "    <tr>\n",
       "      <th>4</th>\n",
       "      <td>48:38.1</td>\n",
       "      <td>Lockdown to extend beyond June 1st</td>\n",
       "      <td>3</td>\n",
       "      <td>Not sure</td>\n",
       "    </tr>\n",
       "    <tr>\n",
       "      <th>...</th>\n",
       "      <td>...</td>\n",
       "      <td>...</td>\n",
       "      <td>...</td>\n",
       "      <td>...</td>\n",
       "    </tr>\n",
       "    <tr>\n",
       "      <th>327</th>\n",
       "      <td>53:52.1</td>\n",
       "      <td>claims report</td>\n",
       "      <td>2</td>\n",
       "      <td>TRUE</td>\n",
       "    </tr>\n",
       "    <tr>\n",
       "      <th>328</th>\n",
       "      <td>53:53.1</td>\n",
       "      <td>warns against rush to reopen</td>\n",
       "      <td>1</td>\n",
       "      <td>TRUE</td>\n",
       "    </tr>\n",
       "    <tr>\n",
       "      <th>329</th>\n",
       "      <td>53:54.1</td>\n",
       "      <td>117 deaths; positivity rate falls to 1.53%</td>\n",
       "      <td>4</td>\n",
       "      <td>Fake</td>\n",
       "    </tr>\n",
       "    <tr>\n",
       "      <th>330</th>\n",
       "      <td>53:55.1</td>\n",
       "      <td>diesel prices rise after day�s gap.</td>\n",
       "      <td>4</td>\n",
       "      <td>Fake</td>\n",
       "    </tr>\n",
       "    <tr>\n",
       "      <th>331</th>\n",
       "      <td>53:56.1</td>\n",
       "      <td>Black Fungus Now Epidemic Disease in Delhi</td>\n",
       "      <td>4</td>\n",
       "      <td>Fake</td>\n",
       "    </tr>\n",
       "  </tbody>\n",
       "</table>\n",
       "<p>332 rows × 4 columns</p>\n",
       "</div>"
      ],
      "text/plain": [
       "        Date                                           Headline  Tire  \\\n",
       "0    41:25.5                        England won 2019 world cup.     1   \n",
       "1    48:35.1  Atletico Madrid won the spanish league this se...     1   \n",
       "2    48:36.1       Manchester United won the Europa league 2021     5   \n",
       "3    48:37.1                        Corona virus is irradicated     5   \n",
       "4    48:38.1                 Lockdown to extend beyond June 1st     3   \n",
       "..       ...                                                ...   ...   \n",
       "327  53:52.1                                      claims report     2   \n",
       "328  53:53.1                       warns against rush to reopen     1   \n",
       "329  53:54.1        117 deaths; positivity rate falls to 1.53%      4   \n",
       "330  53:55.1                diesel prices rise after day�s gap.     4   \n",
       "331  53:56.1         Black Fungus Now Epidemic Disease in Delhi     4   \n",
       "\n",
       "       review  \n",
       "0        TRUE  \n",
       "1        TRUE  \n",
       "2        Fake  \n",
       "3        Fake  \n",
       "4    Not sure  \n",
       "..        ...  \n",
       "327      TRUE  \n",
       "328      TRUE  \n",
       "329      Fake  \n",
       "330      Fake  \n",
       "331      Fake  \n",
       "\n",
       "[332 rows x 4 columns]"
      ]
     },
     "execution_count": 2,
     "metadata": {},
     "output_type": "execute_result"
    }
   ],
   "source": [
    "data=pd.read_csv(\"newnews.csv\")\n",
    "data"
   ]
  },
  {
   "cell_type": "code",
   "execution_count": 3,
   "id": "21123ff8",
   "metadata": {},
   "outputs": [
    {
     "name": "stdout",
     "output_type": "stream",
     "text": [
      "<class 'pandas.core.frame.DataFrame'>\n",
      "RangeIndex: 332 entries, 0 to 331\n",
      "Data columns (total 4 columns):\n",
      " #   Column    Non-Null Count  Dtype \n",
      "---  ------    --------------  ----- \n",
      " 0   Date      332 non-null    object\n",
      " 1   Headline  332 non-null    object\n",
      " 2   Tire      332 non-null    int64 \n",
      " 3   review    332 non-null    object\n",
      "dtypes: int64(1), object(3)\n",
      "memory usage: 10.5+ KB\n"
     ]
    }
   ],
   "source": [
    "data.info()"
   ]
  },
  {
   "cell_type": "code",
   "execution_count": 4,
   "id": "49de4220",
   "metadata": {},
   "outputs": [
    {
     "data": {
      "text/html": [
       "<div>\n",
       "<style scoped>\n",
       "    .dataframe tbody tr th:only-of-type {\n",
       "        vertical-align: middle;\n",
       "    }\n",
       "\n",
       "    .dataframe tbody tr th {\n",
       "        vertical-align: top;\n",
       "    }\n",
       "\n",
       "    .dataframe thead th {\n",
       "        text-align: right;\n",
       "    }\n",
       "</style>\n",
       "<table border=\"1\" class=\"dataframe\">\n",
       "  <thead>\n",
       "    <tr style=\"text-align: right;\">\n",
       "      <th></th>\n",
       "      <th>Date</th>\n",
       "      <th>Headline</th>\n",
       "      <th>Tire</th>\n",
       "      <th>review</th>\n",
       "    </tr>\n",
       "  </thead>\n",
       "  <tbody>\n",
       "    <tr>\n",
       "      <th>0</th>\n",
       "      <td>41:25.5</td>\n",
       "      <td>England won 2019 world cup.</td>\n",
       "      <td>1</td>\n",
       "      <td>TRUE</td>\n",
       "    </tr>\n",
       "    <tr>\n",
       "      <th>1</th>\n",
       "      <td>48:35.1</td>\n",
       "      <td>Atletico Madrid won the spanish league this se...</td>\n",
       "      <td>1</td>\n",
       "      <td>TRUE</td>\n",
       "    </tr>\n",
       "    <tr>\n",
       "      <th>2</th>\n",
       "      <td>48:36.1</td>\n",
       "      <td>Manchester United won the Europa league 2021</td>\n",
       "      <td>5</td>\n",
       "      <td>Fake</td>\n",
       "    </tr>\n",
       "    <tr>\n",
       "      <th>3</th>\n",
       "      <td>48:37.1</td>\n",
       "      <td>Corona virus is irradicated</td>\n",
       "      <td>5</td>\n",
       "      <td>Fake</td>\n",
       "    </tr>\n",
       "    <tr>\n",
       "      <th>4</th>\n",
       "      <td>48:38.1</td>\n",
       "      <td>Lockdown to extend beyond June 1st</td>\n",
       "      <td>3</td>\n",
       "      <td>Not sure</td>\n",
       "    </tr>\n",
       "    <tr>\n",
       "      <th>...</th>\n",
       "      <td>...</td>\n",
       "      <td>...</td>\n",
       "      <td>...</td>\n",
       "      <td>...</td>\n",
       "    </tr>\n",
       "    <tr>\n",
       "      <th>327</th>\n",
       "      <td>53:52.1</td>\n",
       "      <td>claims report</td>\n",
       "      <td>2</td>\n",
       "      <td>TRUE</td>\n",
       "    </tr>\n",
       "    <tr>\n",
       "      <th>328</th>\n",
       "      <td>53:53.1</td>\n",
       "      <td>warns against rush to reopen</td>\n",
       "      <td>1</td>\n",
       "      <td>TRUE</td>\n",
       "    </tr>\n",
       "    <tr>\n",
       "      <th>329</th>\n",
       "      <td>53:54.1</td>\n",
       "      <td>117 deaths; positivity rate falls to 1.53%</td>\n",
       "      <td>4</td>\n",
       "      <td>Fake</td>\n",
       "    </tr>\n",
       "    <tr>\n",
       "      <th>330</th>\n",
       "      <td>53:55.1</td>\n",
       "      <td>diesel prices rise after day�s gap.</td>\n",
       "      <td>4</td>\n",
       "      <td>Fake</td>\n",
       "    </tr>\n",
       "    <tr>\n",
       "      <th>331</th>\n",
       "      <td>53:56.1</td>\n",
       "      <td>Black Fungus Now Epidemic Disease in Delhi</td>\n",
       "      <td>4</td>\n",
       "      <td>Fake</td>\n",
       "    </tr>\n",
       "  </tbody>\n",
       "</table>\n",
       "<p>332 rows × 4 columns</p>\n",
       "</div>"
      ],
      "text/plain": [
       "        Date                                           Headline  Tire  \\\n",
       "0    41:25.5                        England won 2019 world cup.     1   \n",
       "1    48:35.1  Atletico Madrid won the spanish league this se...     1   \n",
       "2    48:36.1       Manchester United won the Europa league 2021     5   \n",
       "3    48:37.1                        Corona virus is irradicated     5   \n",
       "4    48:38.1                 Lockdown to extend beyond June 1st     3   \n",
       "..       ...                                                ...   ...   \n",
       "327  53:52.1                                      claims report     2   \n",
       "328  53:53.1                       warns against rush to reopen     1   \n",
       "329  53:54.1        117 deaths; positivity rate falls to 1.53%      4   \n",
       "330  53:55.1                diesel prices rise after day�s gap.     4   \n",
       "331  53:56.1         Black Fungus Now Epidemic Disease in Delhi     4   \n",
       "\n",
       "       review  \n",
       "0        TRUE  \n",
       "1        TRUE  \n",
       "2        Fake  \n",
       "3        Fake  \n",
       "4    Not sure  \n",
       "..        ...  \n",
       "327      TRUE  \n",
       "328      TRUE  \n",
       "329      Fake  \n",
       "330      Fake  \n",
       "331      Fake  \n",
       "\n",
       "[332 rows x 4 columns]"
      ]
     },
     "execution_count": 4,
     "metadata": {},
     "output_type": "execute_result"
    }
   ],
   "source": [
    "data.drop_duplicates()"
   ]
  },
  {
   "cell_type": "code",
   "execution_count": 5,
   "id": "ac175c1f",
   "metadata": {},
   "outputs": [
    {
     "data": {
      "text/plain": [
       "0      False\n",
       "1      False\n",
       "2      False\n",
       "3      False\n",
       "4      False\n",
       "       ...  \n",
       "327    False\n",
       "328    False\n",
       "329    False\n",
       "330    False\n",
       "331    False\n",
       "Length: 332, dtype: bool"
      ]
     },
     "execution_count": 5,
     "metadata": {},
     "output_type": "execute_result"
    }
   ],
   "source": [
    "data.duplicated()"
   ]
  },
  {
   "cell_type": "code",
   "execution_count": 6,
   "id": "67c4143e",
   "metadata": {},
   "outputs": [
    {
     "data": {
      "text/plain": [
       "Index(['Date', 'Headline', 'Tire', 'review'], dtype='object')"
      ]
     },
     "execution_count": 6,
     "metadata": {},
     "output_type": "execute_result"
    }
   ],
   "source": [
    "data.columns"
   ]
  },
  {
   "cell_type": "code",
   "execution_count": 7,
   "id": "9208891b",
   "metadata": {},
   "outputs": [
    {
     "data": {
      "text/html": [
       "<div>\n",
       "<style scoped>\n",
       "    .dataframe tbody tr th:only-of-type {\n",
       "        vertical-align: middle;\n",
       "    }\n",
       "\n",
       "    .dataframe tbody tr th {\n",
       "        vertical-align: top;\n",
       "    }\n",
       "\n",
       "    .dataframe thead th {\n",
       "        text-align: right;\n",
       "    }\n",
       "</style>\n",
       "<table border=\"1\" class=\"dataframe\">\n",
       "  <thead>\n",
       "    <tr style=\"text-align: right;\">\n",
       "      <th></th>\n",
       "      <th>Date</th>\n",
       "      <th>Headline</th>\n",
       "      <th>Tire</th>\n",
       "      <th>review</th>\n",
       "    </tr>\n",
       "  </thead>\n",
       "  <tbody>\n",
       "    <tr>\n",
       "      <th>327</th>\n",
       "      <td>53:52.1</td>\n",
       "      <td>25</td>\n",
       "      <td>2</td>\n",
       "      <td>TRUE</td>\n",
       "    </tr>\n",
       "    <tr>\n",
       "      <th>328</th>\n",
       "      <td>53:53.1</td>\n",
       "      <td>54</td>\n",
       "      <td>1</td>\n",
       "      <td>TRUE</td>\n",
       "    </tr>\n",
       "    <tr>\n",
       "      <th>329</th>\n",
       "      <td>53:54.1</td>\n",
       "      <td>0</td>\n",
       "      <td>4</td>\n",
       "      <td>Fake</td>\n",
       "    </tr>\n",
       "    <tr>\n",
       "      <th>330</th>\n",
       "      <td>53:55.1</td>\n",
       "      <td>28</td>\n",
       "      <td>4</td>\n",
       "      <td>Fake</td>\n",
       "    </tr>\n",
       "    <tr>\n",
       "      <th>331</th>\n",
       "      <td>53:56.1</td>\n",
       "      <td>7</td>\n",
       "      <td>4</td>\n",
       "      <td>Fake</td>\n",
       "    </tr>\n",
       "  </tbody>\n",
       "</table>\n",
       "</div>"
      ],
      "text/plain": [
       "        Date  Headline  Tire review\n",
       "327  53:52.1        25     2   TRUE\n",
       "328  53:53.1        54     1   TRUE\n",
       "329  53:54.1         0     4   Fake\n",
       "330  53:55.1        28     4   Fake\n",
       "331  53:56.1         7     4   Fake"
      ]
     },
     "execution_count": 7,
     "metadata": {},
     "output_type": "execute_result"
    }
   ],
   "source": [
    "from sklearn.preprocessing import LabelEncoder\n",
    "le=LabelEncoder()\n",
    "data[\"Headline\"]=le.fit_transform(data[\"Headline\"])\n",
    "data.tail()"
   ]
  },
  {
   "cell_type": "code",
   "execution_count": 8,
   "id": "1529fa98",
   "metadata": {},
   "outputs": [
    {
     "data": {
      "text/html": [
       "<div>\n",
       "<style scoped>\n",
       "    .dataframe tbody tr th:only-of-type {\n",
       "        vertical-align: middle;\n",
       "    }\n",
       "\n",
       "    .dataframe tbody tr th {\n",
       "        vertical-align: top;\n",
       "    }\n",
       "\n",
       "    .dataframe thead th {\n",
       "        text-align: right;\n",
       "    }\n",
       "</style>\n",
       "<table border=\"1\" class=\"dataframe\">\n",
       "  <thead>\n",
       "    <tr style=\"text-align: right;\">\n",
       "      <th></th>\n",
       "      <th>Date</th>\n",
       "      <th>Headline</th>\n",
       "      <th>Tire</th>\n",
       "      <th>review</th>\n",
       "    </tr>\n",
       "  </thead>\n",
       "  <tbody>\n",
       "    <tr>\n",
       "      <th>0</th>\n",
       "      <td>41:25.5</td>\n",
       "      <td>132</td>\n",
       "      <td>1</td>\n",
       "      <td>2</td>\n",
       "    </tr>\n",
       "    <tr>\n",
       "      <th>1</th>\n",
       "      <td>48:35.1</td>\n",
       "      <td>92</td>\n",
       "      <td>1</td>\n",
       "      <td>2</td>\n",
       "    </tr>\n",
       "    <tr>\n",
       "      <th>2</th>\n",
       "      <td>48:36.1</td>\n",
       "      <td>208</td>\n",
       "      <td>5</td>\n",
       "      <td>0</td>\n",
       "    </tr>\n",
       "    <tr>\n",
       "      <th>3</th>\n",
       "      <td>48:37.1</td>\n",
       "      <td>113</td>\n",
       "      <td>5</td>\n",
       "      <td>0</td>\n",
       "    </tr>\n",
       "    <tr>\n",
       "      <th>4</th>\n",
       "      <td>48:38.1</td>\n",
       "      <td>203</td>\n",
       "      <td>3</td>\n",
       "      <td>1</td>\n",
       "    </tr>\n",
       "  </tbody>\n",
       "</table>\n",
       "</div>"
      ],
      "text/plain": [
       "      Date  Headline  Tire  review\n",
       "0  41:25.5       132     1       2\n",
       "1  48:35.1        92     1       2\n",
       "2  48:36.1       208     5       0\n",
       "3  48:37.1       113     5       0\n",
       "4  48:38.1       203     3       1"
      ]
     },
     "execution_count": 8,
     "metadata": {},
     "output_type": "execute_result"
    }
   ],
   "source": [
    "from sklearn.preprocessing import LabelEncoder\n",
    "le=LabelEncoder()\n",
    "data[\"review\"]=le.fit_transform(data[\"review\"])\n",
    "data.head()"
   ]
  },
  {
   "cell_type": "code",
   "execution_count": 9,
   "id": "5e47f149",
   "metadata": {},
   "outputs": [
    {
     "data": {
      "text/plain": [
       "0      1\n",
       "1      1\n",
       "2      5\n",
       "3      5\n",
       "4      3\n",
       "      ..\n",
       "327    2\n",
       "328    1\n",
       "329    4\n",
       "330    4\n",
       "331    4\n",
       "Name: Tire, Length: 332, dtype: int64"
      ]
     },
     "execution_count": 9,
     "metadata": {},
     "output_type": "execute_result"
    }
   ],
   "source": [
    "data['Tire']"
   ]
  },
  {
   "cell_type": "code",
   "execution_count": 10,
   "id": "ad892085",
   "metadata": {},
   "outputs": [
    {
     "data": {
      "text/plain": [
       "0     -2208969259000000000\n",
       "1     -2208983052000000000\n",
       "2     -2208982992000000000\n",
       "3     -2208982932000000000\n",
       "4     -2208982872000000000\n",
       "              ...         \n",
       "327   -2208982027000000000\n",
       "328   -2208981967000000000\n",
       "329   -2208981907000000000\n",
       "330   -2208981847000000000\n",
       "331   -2208981787000000000\n",
       "Name: times, Length: 332, dtype: int64"
      ]
     },
     "execution_count": 10,
     "metadata": {},
     "output_type": "execute_result"
    }
   ],
   "source": [
    "data['times'] = pd.to_datetime(data.Date,format='%S:%M.%I').astype(np.int64)\n",
    "data['times']"
   ]
  },
  {
   "cell_type": "code",
   "execution_count": 11,
   "id": "215eb98d",
   "metadata": {},
   "outputs": [
    {
     "data": {
      "text/plain": [
       "'48:36.1'"
      ]
     },
     "execution_count": 11,
     "metadata": {},
     "output_type": "execute_result"
    }
   ],
   "source": [
    "data.at[2,'Date']"
   ]
  },
  {
   "cell_type": "code",
   "execution_count": 12,
   "id": "a9c12822",
   "metadata": {},
   "outputs": [
    {
     "data": {
      "text/plain": [
       "numpy.int64"
      ]
     },
     "execution_count": 12,
     "metadata": {},
     "output_type": "execute_result"
    }
   ],
   "source": [
    "type(data.at[0,'times'])"
   ]
  },
  {
   "cell_type": "code",
   "execution_count": 13,
   "id": "6bbc871f",
   "metadata": {},
   "outputs": [
    {
     "data": {
      "text/html": [
       "<div>\n",
       "<style scoped>\n",
       "    .dataframe tbody tr th:only-of-type {\n",
       "        vertical-align: middle;\n",
       "    }\n",
       "\n",
       "    .dataframe tbody tr th {\n",
       "        vertical-align: top;\n",
       "    }\n",
       "\n",
       "    .dataframe thead th {\n",
       "        text-align: right;\n",
       "    }\n",
       "</style>\n",
       "<table border=\"1\" class=\"dataframe\">\n",
       "  <thead>\n",
       "    <tr style=\"text-align: right;\">\n",
       "      <th></th>\n",
       "      <th>Headline</th>\n",
       "      <th>Tire</th>\n",
       "      <th>times</th>\n",
       "      <th>review</th>\n",
       "    </tr>\n",
       "  </thead>\n",
       "  <tbody>\n",
       "    <tr>\n",
       "      <th>0</th>\n",
       "      <td>132</td>\n",
       "      <td>1</td>\n",
       "      <td>-2208969259000000000</td>\n",
       "      <td>2</td>\n",
       "    </tr>\n",
       "    <tr>\n",
       "      <th>1</th>\n",
       "      <td>92</td>\n",
       "      <td>1</td>\n",
       "      <td>-2208983052000000000</td>\n",
       "      <td>2</td>\n",
       "    </tr>\n",
       "    <tr>\n",
       "      <th>2</th>\n",
       "      <td>208</td>\n",
       "      <td>5</td>\n",
       "      <td>-2208982992000000000</td>\n",
       "      <td>0</td>\n",
       "    </tr>\n",
       "    <tr>\n",
       "      <th>3</th>\n",
       "      <td>113</td>\n",
       "      <td>5</td>\n",
       "      <td>-2208982932000000000</td>\n",
       "      <td>0</td>\n",
       "    </tr>\n",
       "    <tr>\n",
       "      <th>4</th>\n",
       "      <td>203</td>\n",
       "      <td>3</td>\n",
       "      <td>-2208982872000000000</td>\n",
       "      <td>1</td>\n",
       "    </tr>\n",
       "    <tr>\n",
       "      <th>...</th>\n",
       "      <td>...</td>\n",
       "      <td>...</td>\n",
       "      <td>...</td>\n",
       "      <td>...</td>\n",
       "    </tr>\n",
       "    <tr>\n",
       "      <th>327</th>\n",
       "      <td>25</td>\n",
       "      <td>2</td>\n",
       "      <td>-2208982027000000000</td>\n",
       "      <td>2</td>\n",
       "    </tr>\n",
       "    <tr>\n",
       "      <th>328</th>\n",
       "      <td>54</td>\n",
       "      <td>1</td>\n",
       "      <td>-2208981967000000000</td>\n",
       "      <td>2</td>\n",
       "    </tr>\n",
       "    <tr>\n",
       "      <th>329</th>\n",
       "      <td>0</td>\n",
       "      <td>4</td>\n",
       "      <td>-2208981907000000000</td>\n",
       "      <td>0</td>\n",
       "    </tr>\n",
       "    <tr>\n",
       "      <th>330</th>\n",
       "      <td>28</td>\n",
       "      <td>4</td>\n",
       "      <td>-2208981847000000000</td>\n",
       "      <td>0</td>\n",
       "    </tr>\n",
       "    <tr>\n",
       "      <th>331</th>\n",
       "      <td>7</td>\n",
       "      <td>4</td>\n",
       "      <td>-2208981787000000000</td>\n",
       "      <td>0</td>\n",
       "    </tr>\n",
       "  </tbody>\n",
       "</table>\n",
       "<p>332 rows × 4 columns</p>\n",
       "</div>"
      ],
      "text/plain": [
       "     Headline  Tire                times  review\n",
       "0         132     1 -2208969259000000000       2\n",
       "1          92     1 -2208983052000000000       2\n",
       "2         208     5 -2208982992000000000       0\n",
       "3         113     5 -2208982932000000000       0\n",
       "4         203     3 -2208982872000000000       1\n",
       "..        ...   ...                  ...     ...\n",
       "327        25     2 -2208982027000000000       2\n",
       "328        54     1 -2208981967000000000       2\n",
       "329         0     4 -2208981907000000000       0\n",
       "330        28     4 -2208981847000000000       0\n",
       "331         7     4 -2208981787000000000       0\n",
       "\n",
       "[332 rows x 4 columns]"
      ]
     },
     "execution_count": 13,
     "metadata": {},
     "output_type": "execute_result"
    }
   ],
   "source": [
    "data=data[['Headline', 'Tire','times','review']]\n",
    "data"
   ]
  },
  {
   "cell_type": "code",
   "execution_count": null,
   "id": "eeef66a7",
   "metadata": {},
   "outputs": [],
   "source": []
  },
  {
   "cell_type": "code",
   "execution_count": 14,
   "id": "35b51d01",
   "metadata": {},
   "outputs": [
    {
     "data": {
      "text/html": [
       "<div>\n",
       "<style scoped>\n",
       "    .dataframe tbody tr th:only-of-type {\n",
       "        vertical-align: middle;\n",
       "    }\n",
       "\n",
       "    .dataframe tbody tr th {\n",
       "        vertical-align: top;\n",
       "    }\n",
       "\n",
       "    .dataframe thead th {\n",
       "        text-align: right;\n",
       "    }\n",
       "</style>\n",
       "<table border=\"1\" class=\"dataframe\">\n",
       "  <thead>\n",
       "    <tr style=\"text-align: right;\">\n",
       "      <th></th>\n",
       "      <th>Headline</th>\n",
       "      <th>Tire</th>\n",
       "      <th>times</th>\n",
       "      <th>review</th>\n",
       "    </tr>\n",
       "  </thead>\n",
       "  <tbody>\n",
       "    <tr>\n",
       "      <th>count</th>\n",
       "      <td>332.000000</td>\n",
       "      <td>332.000000</td>\n",
       "      <td>3.320000e+02</td>\n",
       "      <td>332.000000</td>\n",
       "    </tr>\n",
       "    <tr>\n",
       "      <th>mean</th>\n",
       "      <td>163.144578</td>\n",
       "      <td>2.951807</td>\n",
       "      <td>-2.208983e+18</td>\n",
       "      <td>1.042169</td>\n",
       "    </tr>\n",
       "    <tr>\n",
       "      <th>std</th>\n",
       "      <td>93.694159</td>\n",
       "      <td>1.438811</td>\n",
       "      <td>1.302277e+12</td>\n",
       "      <td>0.898824</td>\n",
       "    </tr>\n",
       "    <tr>\n",
       "      <th>min</th>\n",
       "      <td>0.000000</td>\n",
       "      <td>1.000000</td>\n",
       "      <td>-2.208985e+18</td>\n",
       "      <td>0.000000</td>\n",
       "    </tr>\n",
       "    <tr>\n",
       "      <th>25%</th>\n",
       "      <td>81.750000</td>\n",
       "      <td>2.000000</td>\n",
       "      <td>-2.208984e+18</td>\n",
       "      <td>0.000000</td>\n",
       "    </tr>\n",
       "    <tr>\n",
       "      <th>50%</th>\n",
       "      <td>164.500000</td>\n",
       "      <td>3.000000</td>\n",
       "      <td>-2.208983e+18</td>\n",
       "      <td>1.000000</td>\n",
       "    </tr>\n",
       "    <tr>\n",
       "      <th>75%</th>\n",
       "      <td>247.250000</td>\n",
       "      <td>4.000000</td>\n",
       "      <td>-2.208982e+18</td>\n",
       "      <td>2.000000</td>\n",
       "    </tr>\n",
       "    <tr>\n",
       "      <th>max</th>\n",
       "      <td>320.000000</td>\n",
       "      <td>5.000000</td>\n",
       "      <td>-2.208969e+18</td>\n",
       "      <td>2.000000</td>\n",
       "    </tr>\n",
       "  </tbody>\n",
       "</table>\n",
       "</div>"
      ],
      "text/plain": [
       "         Headline        Tire         times      review\n",
       "count  332.000000  332.000000  3.320000e+02  332.000000\n",
       "mean   163.144578    2.951807 -2.208983e+18    1.042169\n",
       "std     93.694159    1.438811  1.302277e+12    0.898824\n",
       "min      0.000000    1.000000 -2.208985e+18    0.000000\n",
       "25%     81.750000    2.000000 -2.208984e+18    0.000000\n",
       "50%    164.500000    3.000000 -2.208983e+18    1.000000\n",
       "75%    247.250000    4.000000 -2.208982e+18    2.000000\n",
       "max    320.000000    5.000000 -2.208969e+18    2.000000"
      ]
     },
     "execution_count": 14,
     "metadata": {},
     "output_type": "execute_result"
    }
   ],
   "source": [
    "data.describe()"
   ]
  },
  {
   "cell_type": "code",
   "execution_count": 15,
   "id": "4efd0022",
   "metadata": {},
   "outputs": [
    {
     "data": {
      "text/html": [
       "<div>\n",
       "<style scoped>\n",
       "    .dataframe tbody tr th:only-of-type {\n",
       "        vertical-align: middle;\n",
       "    }\n",
       "\n",
       "    .dataframe tbody tr th {\n",
       "        vertical-align: top;\n",
       "    }\n",
       "\n",
       "    .dataframe thead th {\n",
       "        text-align: right;\n",
       "    }\n",
       "</style>\n",
       "<table border=\"1\" class=\"dataframe\">\n",
       "  <thead>\n",
       "    <tr style=\"text-align: right;\">\n",
       "      <th></th>\n",
       "      <th>Headline</th>\n",
       "      <th>Tire</th>\n",
       "      <th>times</th>\n",
       "    </tr>\n",
       "  </thead>\n",
       "  <tbody>\n",
       "    <tr>\n",
       "      <th>0</th>\n",
       "      <td>132</td>\n",
       "      <td>1</td>\n",
       "      <td>-2208969259000000000</td>\n",
       "    </tr>\n",
       "    <tr>\n",
       "      <th>1</th>\n",
       "      <td>92</td>\n",
       "      <td>1</td>\n",
       "      <td>-2208983052000000000</td>\n",
       "    </tr>\n",
       "    <tr>\n",
       "      <th>2</th>\n",
       "      <td>208</td>\n",
       "      <td>5</td>\n",
       "      <td>-2208982992000000000</td>\n",
       "    </tr>\n",
       "    <tr>\n",
       "      <th>3</th>\n",
       "      <td>113</td>\n",
       "      <td>5</td>\n",
       "      <td>-2208982932000000000</td>\n",
       "    </tr>\n",
       "    <tr>\n",
       "      <th>4</th>\n",
       "      <td>203</td>\n",
       "      <td>3</td>\n",
       "      <td>-2208982872000000000</td>\n",
       "    </tr>\n",
       "    <tr>\n",
       "      <th>...</th>\n",
       "      <td>...</td>\n",
       "      <td>...</td>\n",
       "      <td>...</td>\n",
       "    </tr>\n",
       "    <tr>\n",
       "      <th>327</th>\n",
       "      <td>25</td>\n",
       "      <td>2</td>\n",
       "      <td>-2208982027000000000</td>\n",
       "    </tr>\n",
       "    <tr>\n",
       "      <th>328</th>\n",
       "      <td>54</td>\n",
       "      <td>1</td>\n",
       "      <td>-2208981967000000000</td>\n",
       "    </tr>\n",
       "    <tr>\n",
       "      <th>329</th>\n",
       "      <td>0</td>\n",
       "      <td>4</td>\n",
       "      <td>-2208981907000000000</td>\n",
       "    </tr>\n",
       "    <tr>\n",
       "      <th>330</th>\n",
       "      <td>28</td>\n",
       "      <td>4</td>\n",
       "      <td>-2208981847000000000</td>\n",
       "    </tr>\n",
       "    <tr>\n",
       "      <th>331</th>\n",
       "      <td>7</td>\n",
       "      <td>4</td>\n",
       "      <td>-2208981787000000000</td>\n",
       "    </tr>\n",
       "  </tbody>\n",
       "</table>\n",
       "<p>332 rows × 3 columns</p>\n",
       "</div>"
      ],
      "text/plain": [
       "     Headline  Tire                times\n",
       "0         132     1 -2208969259000000000\n",
       "1          92     1 -2208983052000000000\n",
       "2         208     5 -2208982992000000000\n",
       "3         113     5 -2208982932000000000\n",
       "4         203     3 -2208982872000000000\n",
       "..        ...   ...                  ...\n",
       "327        25     2 -2208982027000000000\n",
       "328        54     1 -2208981967000000000\n",
       "329         0     4 -2208981907000000000\n",
       "330        28     4 -2208981847000000000\n",
       "331         7     4 -2208981787000000000\n",
       "\n",
       "[332 rows x 3 columns]"
      ]
     },
     "execution_count": 15,
     "metadata": {},
     "output_type": "execute_result"
    }
   ],
   "source": [
    "x=data.iloc[:,0:-1]\n",
    "x"
   ]
  },
  {
   "cell_type": "code",
   "execution_count": 16,
   "id": "14445194",
   "metadata": {},
   "outputs": [
    {
     "data": {
      "text/plain": [
       "0      2\n",
       "1      2\n",
       "2      0\n",
       "3      0\n",
       "4      1\n",
       "      ..\n",
       "327    2\n",
       "328    2\n",
       "329    0\n",
       "330    0\n",
       "331    0\n",
       "Name: review, Length: 332, dtype: int32"
      ]
     },
     "execution_count": 16,
     "metadata": {},
     "output_type": "execute_result"
    }
   ],
   "source": [
    "y=data.iloc[:,-1]\n",
    "y"
   ]
  },
  {
   "cell_type": "code",
   "execution_count": 17,
   "id": "df34bd8c",
   "metadata": {},
   "outputs": [],
   "source": [
    "from sklearn.model_selection import train_test_split\n",
    "x_test,x_train,y_test,y_train = train_test_split(x,y, test_size = 0.2 , random_state = 2)"
   ]
  },
  {
   "cell_type": "code",
   "execution_count": 18,
   "id": "827e76dd",
   "metadata": {},
   "outputs": [
    {
     "data": {
      "text/plain": [
       "265"
      ]
     },
     "execution_count": 18,
     "metadata": {},
     "output_type": "execute_result"
    }
   ],
   "source": [
    "len(x_test)"
   ]
  },
  {
   "cell_type": "code",
   "execution_count": 19,
   "id": "29164d5c",
   "metadata": {},
   "outputs": [],
   "source": [
    "from sklearn.preprocessing import StandardScaler\n",
    "sd = StandardScaler()"
   ]
  },
  {
   "cell_type": "code",
   "execution_count": 20,
   "id": "6c45ae13",
   "metadata": {},
   "outputs": [],
   "source": [
    "x_test = sd.fit_transform(x_test)\n",
    "x_train = sd.fit_transform(x_train)"
   ]
  },
  {
   "cell_type": "markdown",
   "id": "0e96da78",
   "metadata": {},
   "source": [
    "# linear regression"
   ]
  },
  {
   "cell_type": "code",
   "execution_count": 45,
   "id": "8f850705",
   "metadata": {},
   "outputs": [
    {
     "data": {
      "text/plain": [
       "array([ 0.91313387,  0.39574091,  1.88740591,  0.41071701, -0.07821594,\n",
       "        1.90076795,  1.89283801, -0.10647498,  1.42732761,  0.41390805,\n",
       "        1.39375721, -0.10146703,  1.89034396, -0.07776451, -0.09354707,\n",
       "        0.41252489, -0.07663696,  0.90422594,  1.89677316,  1.89760549,\n",
       "        1.88697422, -0.10263651,  1.9251067 ,  1.90327676,  0.91614058,\n",
       "       -0.09619761, -0.08307003,  1.40890871,  1.88387958,  0.41804079,\n",
       "        0.88524228, -0.12405028,  0.87840613, -0.08215899,  1.90815767,\n",
       "        0.91116037, -0.09632561,  0.41021422,  1.40160683,  0.41421719,\n",
       "        0.40375624,  1.40978241,  0.92601788, -0.08145494,  0.89365919,\n",
       "       -0.11206443,  1.39903085,  0.38018134,  1.40925988,  0.41688015,\n",
       "       -0.0881379 ,  1.90490069,  1.9288057 ,  1.39375994,  0.40608393,\n",
       "        1.38344392,  0.92488215,  0.41645731,  0.88482217,  1.92955197,\n",
       "        0.38614868, -0.12275862,  1.89330947, -0.11575883,  1.9185335 ,\n",
       "        0.92876323,  0.41594841,  1.40998367,  1.38477235,  0.91892027,\n",
       "        1.38770495,  1.91014819,  0.41198317,  0.92879455,  1.91948254,\n",
       "        1.38048   , -0.09536652,  1.92894188,  1.40572048,  0.42049949,\n",
       "       -0.09521877,  1.89642659,  1.40384122,  0.41997997,  1.41343034,\n",
       "       -0.11254446,  0.40719895,  1.38237788,  1.92324991,  0.8891115 ,\n",
       "        0.42258426,  1.3979161 ,  1.38599591,  1.38354333,  0.88792443,\n",
       "        1.38323081, -0.10795905,  0.41144051,  1.89972551,  0.88383419,\n",
       "       -0.10655125,  0.90034214,  0.89684054,  1.88381647,  0.37467634,\n",
       "        1.91034946,  0.39821964,  0.39047178,  1.38201882,  1.89197061,\n",
       "        0.90092157,  1.92128798,  1.92892486,  0.88539003, -0.08519645,\n",
       "        1.40076331,  0.38733275, -0.09680865,  1.90092416,  0.89999012,\n",
       "        1.39754433,  1.88877995,  0.88892698,  0.92418695,  0.88525658,\n",
       "        0.40553337,  1.89802776,  0.40567716,  1.40468144,  1.38813663,\n",
       "        0.88669503,  1.90150632,  0.40143804, -0.10185008, -0.12255708,\n",
       "        0.39642333, -0.10843663,  0.88756996,  1.91949015, -0.12713063,\n",
       "        1.91313215,  0.89082872,  0.92235264,  1.39443266,  1.92883975,\n",
       "        0.87766465,  0.91520124,  1.39391831,  0.88204277,  0.92670217,\n",
       "        1.91941144,  1.41702533,  1.92890784,  1.88279831,  0.38588488,\n",
       "        1.38508487, -0.099761  ,  1.40772135,  0.92702015, -0.1165763 ,\n",
       "       -0.07712856,  1.88889638,  1.90138989,  1.38308306,  0.88553956,\n",
       "        1.92887379,  1.4003541 , -0.10466926,  0.90071391,  0.39466754,\n",
       "        1.90864093,  1.92878868,  1.92935955, -0.08204256, -0.09996226,\n",
       "        0.38542949,  0.92120874,  1.91761418,  0.92951561,  0.39367956,\n",
       "        0.93028502,  1.41474542, -0.11301779,  0.92828292, -0.08956846,\n",
       "        0.40507525,  1.91841707,  0.41689388,  0.40727617,  0.39582903,\n",
       "        0.41519359, -0.12874571, -0.1104755 , -0.10371562,  1.42318207,\n",
       "        0.88688294,  1.8905598 ,  0.88964805,  1.41315309, -0.08525665,\n",
       "        0.38359556,  1.39731937,  0.37588288,  1.92309915,  1.40581321,\n",
       "        1.90953988,  0.92645228,  1.412159  ,  1.92885677, -0.08252286,\n",
       "        0.91905099,  1.39974674,  1.89828678,  1.40003952,  1.40007112,\n",
       "        1.92138127,  0.92621942, -0.09698132,  1.39701569,  0.92665383,\n",
       "        0.9273068 ,  1.40704402,  1.88816891,  0.42070103,  1.4078296 ,\n",
       "       -0.09394385,  1.38283044, -0.08446749,  1.40684163,  0.9276561 ,\n",
       "        1.89288118,  0.39195895,  1.91525528,  1.92686954, -0.11665567,\n",
       "       -0.07929391, -0.07686165,  1.41988343,  0.92191551, -0.09090357,\n",
       "        1.91661229,  1.92889081,  1.4187511 ,  0.90022571,  1.40536574,\n",
       "        0.42604427, -0.07601531,  0.3814335 ,  1.38952412,  0.41748178,\n",
       "        0.42238271, -0.12678406,  1.38219449,  1.89547606, -0.08446176,\n",
       "        1.38700363,  1.41295155,  0.41844756,  0.90379426,  0.90601924,\n",
       "        1.88946697,  1.92469965,  1.40453613,  1.90062809, -0.07566328])"
      ]
     },
     "execution_count": 45,
     "metadata": {},
     "output_type": "execute_result"
    }
   ],
   "source": [
    "from sklearn.linear_model import LinearRegression\n",
    "lr=LinearRegression()\n",
    "lr.fit(x_train,y_train)\n",
    "y_pred=lr.predict(x_test)\n",
    "y_pred"
   ]
  },
  {
   "cell_type": "code",
   "execution_count": 22,
   "id": "aa308be5",
   "metadata": {},
   "outputs": [
    {
     "data": {
      "text/plain": [
       "0.6820273523271847"
      ]
     },
     "execution_count": 22,
     "metadata": {},
     "output_type": "execute_result"
    }
   ],
   "source": [
    "testing_score = lr.score(x_test,y_test)\n",
    "testing_score"
   ]
  },
  {
   "cell_type": "code",
   "execution_count": 23,
   "id": "2f3583a5",
   "metadata": {},
   "outputs": [
    {
     "data": {
      "text/plain": [
       "0.7320754716981132"
      ]
     },
     "execution_count": 23,
     "metadata": {},
     "output_type": "execute_result"
    }
   ],
   "source": [
    "from sklearn.metrics import accuracy_score\n",
    "sc1=accuracy_score(y_test, np.round(y_pred)) \n",
    "sc1"
   ]
  },
  {
   "cell_type": "code",
   "execution_count": 24,
   "id": "00d2e2f4",
   "metadata": {},
   "outputs": [
    {
     "name": "stdout",
     "output_type": "stream",
     "text": [
      "MSC:  0.25666924180820516\n"
     ]
    }
   ],
   "source": [
    "from sklearn.metrics import mean_squared_error\n",
    "mse1 = mean_squared_error(y_test,y_pred)\n",
    "print(\"MSC: \",mse1)"
   ]
  },
  {
   "cell_type": "markdown",
   "id": "1e4f2210",
   "metadata": {},
   "source": [
    "# logistic regression"
   ]
  },
  {
   "cell_type": "code",
   "execution_count": 25,
   "id": "bc8d79f4",
   "metadata": {},
   "outputs": [
    {
     "data": {
      "text/plain": [
       "array([0, 0, 2, 0, 0, 2, 2, 0, 2, 0, 2, 0, 2, 0, 0, 0, 0, 0, 2, 2, 2, 0,\n",
       "       2, 2, 0, 0, 0, 2, 2, 0, 1, 0, 1, 0, 2, 0, 0, 0, 2, 0, 0, 2, 0, 0,\n",
       "       0, 0, 2, 0, 2, 0, 0, 2, 2, 2, 0, 2, 0, 0, 1, 2, 0, 0, 2, 0, 2, 0,\n",
       "       0, 2, 2, 0, 2, 2, 0, 0, 2, 2, 0, 2, 2, 0, 0, 2, 2, 0, 2, 0, 0, 2,\n",
       "       2, 1, 0, 2, 2, 2, 1, 2, 0, 0, 2, 1, 0, 0, 0, 2, 0, 2, 0, 0, 2, 2,\n",
       "       0, 2, 2, 1, 0, 2, 0, 0, 2, 0, 2, 2, 1, 0, 1, 0, 2, 0, 2, 2, 0, 2,\n",
       "       0, 0, 0, 0, 0, 1, 2, 0, 2, 0, 0, 2, 2, 1, 0, 2, 1, 0, 2, 2, 2, 2,\n",
       "       0, 2, 0, 2, 0, 0, 0, 2, 2, 2, 0, 2, 2, 0, 0, 0, 2, 2, 2, 0, 0, 0,\n",
       "       0, 2, 0, 0, 0, 2, 0, 0, 0, 0, 2, 0, 0, 0, 0, 0, 0, 0, 2, 1, 2, 1,\n",
       "       2, 0, 0, 2, 0, 2, 2, 2, 0, 2, 2, 0, 0, 2, 2, 2, 2, 2, 0, 0, 2, 0,\n",
       "       0, 2, 2, 0, 2, 0, 2, 0, 2, 0, 2, 0, 2, 2, 0, 0, 0, 2, 0, 0, 2, 2,\n",
       "       2, 0, 2, 0, 0, 0, 2, 0, 0, 0, 2, 2, 0, 2, 2, 0, 0, 0, 2, 2, 2, 2,\n",
       "       0])"
      ]
     },
     "execution_count": 25,
     "metadata": {},
     "output_type": "execute_result"
    }
   ],
   "source": [
    "from sklearn.linear_model import LogisticRegression\n",
    "model = LogisticRegression()\n",
    "model.fit(x_train,y_train)\n",
    "y_pred1 = model.predict(x_test)\n",
    "y_pred1"
   ]
  },
  {
   "cell_type": "code",
   "execution_count": 26,
   "id": "9bb2cb0a",
   "metadata": {},
   "outputs": [
    {
     "data": {
      "text/plain": [
       "0.8"
      ]
     },
     "execution_count": 26,
     "metadata": {},
     "output_type": "execute_result"
    }
   ],
   "source": [
    "from sklearn.metrics import accuracy_score\n",
    "sc2=accuracy_score(y_test, y_pred1) \n",
    "sc2"
   ]
  },
  {
   "cell_type": "code",
   "execution_count": 27,
   "id": "c5b355fe",
   "metadata": {},
   "outputs": [
    {
     "data": {
      "text/plain": [
       "0.3471698113207547"
      ]
     },
     "execution_count": 27,
     "metadata": {},
     "output_type": "execute_result"
    }
   ],
   "source": [
    "from sklearn.metrics import mean_squared_error\n",
    "mse2 = mean_squared_error(y_test,y_pred1)\n",
    "mse2"
   ]
  },
  {
   "cell_type": "markdown",
   "id": "269ccaef",
   "metadata": {},
   "source": [
    "# KNeighbors"
   ]
  },
  {
   "cell_type": "code",
   "execution_count": 28,
   "id": "5b62e370",
   "metadata": {},
   "outputs": [
    {
     "data": {
      "text/plain": [
       "array([0, 0, 2, 0, 0, 2, 2, 0, 1, 0, 1, 0, 2, 0, 0, 0, 0, 0, 2, 2, 2, 0,\n",
       "       2, 2, 0, 0, 0, 2, 2, 0, 1, 0, 1, 0, 2, 0, 0, 0, 2, 0, 0, 1, 1, 0,\n",
       "       0, 0, 2, 0, 2, 0, 0, 2, 2, 1, 0, 1, 1, 0, 1, 2, 0, 0, 2, 0, 2, 0,\n",
       "       0, 1, 2, 0, 2, 2, 0, 0, 2, 1, 0, 2, 1, 0, 0, 2, 2, 0, 2, 0, 0, 2,\n",
       "       2, 1, 0, 1, 2, 1, 0, 2, 0, 0, 2, 1, 0, 0, 0, 2, 0, 2, 0, 0, 1, 2,\n",
       "       0, 2, 2, 1, 0, 1, 0, 0, 2, 0, 1, 2, 1, 1, 1, 0, 2, 0, 1, 1, 2, 2,\n",
       "       0, 0, 0, 0, 0, 1, 2, 0, 2, 0, 0, 1, 2, 2, 0, 2, 1, 0, 2, 2, 2, 2,\n",
       "       0, 1, 0, 2, 0, 0, 0, 2, 2, 2, 2, 2, 2, 0, 0, 0, 0, 2, 2, 0, 0, 0,\n",
       "       1, 2, 0, 0, 0, 2, 0, 1, 0, 0, 2, 0, 0, 0, 0, 0, 0, 0, 2, 1, 2, 1,\n",
       "       1, 0, 0, 2, 0, 2, 1, 2, 0, 2, 2, 0, 0, 2, 2, 1, 1, 2, 1, 0, 2, 1,\n",
       "       0, 1, 2, 0, 1, 0, 2, 0, 1, 0, 2, 0, 2, 2, 0, 0, 0, 2, 0, 0, 2, 2,\n",
       "       2, 0, 1, 0, 0, 0, 2, 0, 0, 0, 2, 2, 0, 2, 1, 0, 0, 0, 2, 2, 2, 2,\n",
       "       0])"
      ]
     },
     "execution_count": 28,
     "metadata": {},
     "output_type": "execute_result"
    }
   ],
   "source": [
    "from sklearn.neighbors import KNeighborsClassifier  \n",
    "classifier= KNeighborsClassifier(n_neighbors=5, metric='minkowski', p=2 )  \n",
    "classifier.fit(x_train, y_train)\n",
    "y_pred2= classifier.predict(x_test)\n",
    "y_pred2"
   ]
  },
  {
   "cell_type": "code",
   "execution_count": 29,
   "id": "bb3dcd68",
   "metadata": {},
   "outputs": [
    {
     "data": {
      "text/plain": [
       "0.7358490566037735"
      ]
     },
     "execution_count": 29,
     "metadata": {},
     "output_type": "execute_result"
    }
   ],
   "source": [
    "from sklearn.metrics import accuracy_score\n",
    "sc3=accuracy_score(y_test, y_pred2) \n",
    "sc3"
   ]
  },
  {
   "cell_type": "code",
   "execution_count": 30,
   "id": "f4c90c48",
   "metadata": {},
   "outputs": [
    {
     "data": {
      "text/plain": [
       "0.41132075471698115"
      ]
     },
     "execution_count": 30,
     "metadata": {},
     "output_type": "execute_result"
    }
   ],
   "source": [
    "from sklearn.metrics import mean_squared_error\n",
    "mse4 = mean_squared_error(y_test,y_pred2)\n",
    "mse4"
   ]
  },
  {
   "cell_type": "markdown",
   "id": "e2a21989",
   "metadata": {},
   "source": [
    "# Naive bayes-Gaussian"
   ]
  },
  {
   "cell_type": "code",
   "execution_count": 31,
   "id": "56345d3a",
   "metadata": {},
   "outputs": [
    {
     "data": {
      "text/plain": [
       "array([0, 0, 2, 0, 0, 2, 2, 0, 2, 0, 2, 0, 2, 0, 0, 0, 0, 1, 2, 2, 2, 0,\n",
       "       2, 2, 0, 0, 0, 2, 2, 0, 1, 0, 1, 0, 2, 0, 0, 0, 2, 0, 0, 2, 0, 0,\n",
       "       1, 0, 2, 0, 2, 0, 0, 2, 2, 2, 0, 2, 0, 0, 1, 2, 0, 0, 2, 0, 2, 1,\n",
       "       0, 2, 2, 0, 2, 2, 0, 1, 2, 2, 0, 2, 2, 0, 0, 2, 2, 0, 2, 0, 0, 2,\n",
       "       2, 1, 0, 2, 2, 2, 1, 2, 0, 0, 2, 1, 0, 1, 1, 2, 1, 2, 0, 0, 2, 2,\n",
       "       1, 2, 2, 1, 0, 2, 0, 0, 2, 1, 2, 2, 1, 1, 1, 0, 2, 0, 2, 2, 1, 2,\n",
       "       0, 0, 0, 0, 0, 1, 2, 0, 2, 1, 0, 2, 2, 1, 0, 2, 1, 1, 2, 2, 2, 2,\n",
       "       0, 2, 0, 2, 1, 0, 0, 2, 2, 2, 1, 2, 2, 0, 0, 0, 2, 2, 2, 0, 0, 0,\n",
       "       0, 2, 1, 0, 1, 2, 0, 0, 0, 0, 2, 0, 0, 0, 0, 0, 0, 0, 2, 1, 2, 1,\n",
       "       2, 0, 0, 2, 0, 2, 2, 2, 1, 2, 2, 0, 0, 2, 2, 2, 2, 2, 0, 0, 2, 0,\n",
       "       1, 2, 2, 0, 2, 0, 2, 0, 2, 1, 2, 0, 2, 2, 0, 0, 0, 2, 0, 0, 2, 2,\n",
       "       2, 1, 2, 0, 0, 0, 2, 0, 0, 0, 2, 2, 0, 2, 2, 0, 0, 0, 2, 2, 2, 2,\n",
       "       0])"
      ]
     },
     "execution_count": 31,
     "metadata": {},
     "output_type": "execute_result"
    }
   ],
   "source": [
    "from sklearn.naive_bayes import GaussianNB\n",
    "nb = GaussianNB()\n",
    "nb.fit(x_train,y_train)\n",
    "y_pred3 = nb.predict(x_test)\n",
    "y_pred3"
   ]
  },
  {
   "cell_type": "code",
   "execution_count": 32,
   "id": "8d1ca841",
   "metadata": {},
   "outputs": [
    {
     "data": {
      "text/plain": [
       "0.8716981132075472"
      ]
     },
     "execution_count": 32,
     "metadata": {},
     "output_type": "execute_result"
    }
   ],
   "source": [
    "from sklearn.metrics import accuracy_score\n",
    "sc5=accuracy_score(y_test, y_pred3) \n",
    "sc5"
   ]
  },
  {
   "cell_type": "code",
   "execution_count": 33,
   "id": "5e891262",
   "metadata": {},
   "outputs": [
    {
     "data": {
      "text/plain": [
       "0.41132075471698115"
      ]
     },
     "execution_count": 33,
     "metadata": {},
     "output_type": "execute_result"
    }
   ],
   "source": [
    "from sklearn.metrics import mean_squared_error\n",
    "mse5 = mean_squared_error(y_test,y_pred2)\n",
    "mse5"
   ]
  },
  {
   "cell_type": "markdown",
   "id": "f043b45d",
   "metadata": {},
   "source": [
    "# Naive bayes-Bernoulli"
   ]
  },
  {
   "cell_type": "code",
   "execution_count": 34,
   "id": "bd577b65",
   "metadata": {},
   "outputs": [
    {
     "data": {
      "text/plain": [
       "array([0, 0, 2, 0, 0, 2, 2, 0, 2, 0, 2, 0, 2, 0, 0, 0, 0, 0, 2, 2, 2, 0,\n",
       "       2, 2, 0, 0, 0, 2, 2, 0, 0, 0, 0, 0, 2, 0, 0, 0, 2, 0, 0, 2, 0, 0,\n",
       "       0, 0, 2, 0, 2, 0, 0, 2, 2, 2, 0, 2, 0, 0, 0, 2, 0, 0, 2, 0, 2, 0,\n",
       "       0, 2, 2, 0, 2, 2, 0, 0, 2, 2, 0, 2, 2, 0, 0, 2, 2, 0, 2, 0, 0, 2,\n",
       "       2, 0, 0, 2, 2, 2, 0, 2, 0, 0, 2, 0, 0, 0, 0, 2, 0, 2, 0, 0, 2, 2,\n",
       "       0, 2, 2, 0, 0, 2, 0, 0, 2, 0, 2, 2, 0, 0, 0, 0, 2, 0, 2, 2, 0, 2,\n",
       "       0, 0, 0, 0, 0, 0, 2, 0, 2, 0, 0, 2, 2, 0, 0, 2, 0, 0, 2, 2, 2, 2,\n",
       "       0, 2, 0, 2, 0, 0, 0, 2, 2, 2, 0, 2, 2, 0, 0, 0, 2, 2, 2, 0, 0, 0,\n",
       "       0, 2, 0, 0, 0, 2, 0, 0, 0, 0, 2, 0, 0, 0, 0, 0, 0, 0, 2, 0, 2, 0,\n",
       "       2, 0, 0, 2, 0, 2, 2, 2, 0, 2, 2, 0, 0, 2, 2, 2, 2, 2, 0, 0, 2, 0,\n",
       "       0, 2, 2, 0, 2, 0, 2, 0, 2, 0, 2, 0, 2, 2, 0, 0, 0, 2, 0, 0, 2, 2,\n",
       "       2, 0, 2, 0, 0, 0, 2, 0, 0, 0, 2, 2, 0, 2, 2, 0, 0, 0, 2, 2, 2, 2,\n",
       "       0])"
      ]
     },
     "execution_count": 34,
     "metadata": {},
     "output_type": "execute_result"
    }
   ],
   "source": [
    "from sklearn.naive_bayes import BernoulliNB\n",
    "model = BernoulliNB()\n",
    "model.fit(x_train,y_train)\n",
    "y_pred4 = model.predict(x_test)\n",
    "y_pred4"
   ]
  },
  {
   "cell_type": "code",
   "execution_count": 35,
   "id": "75d861e1",
   "metadata": {},
   "outputs": [
    {
     "data": {
      "text/plain": [
       "0.7584905660377359"
      ]
     },
     "execution_count": 35,
     "metadata": {},
     "output_type": "execute_result"
    }
   ],
   "source": [
    "from sklearn.metrics import accuracy_score\n",
    "sc6=accuracy_score(y_test, y_pred4) \n",
    "sc6"
   ]
  },
  {
   "cell_type": "code",
   "execution_count": 36,
   "id": "ada03805",
   "metadata": {},
   "outputs": [
    {
     "data": {
      "text/plain": [
       "0.4"
      ]
     },
     "execution_count": 36,
     "metadata": {},
     "output_type": "execute_result"
    }
   ],
   "source": [
    "from sklearn.metrics import mean_squared_error\n",
    "mse6 = mean_squared_error(y_test,y_pred4)\n",
    "mse6"
   ]
  },
  {
   "cell_type": "markdown",
   "id": "59f8a3a7",
   "metadata": {},
   "source": [
    "# RandomForest"
   ]
  },
  {
   "cell_type": "code",
   "execution_count": 37,
   "id": "2a2cd876",
   "metadata": {},
   "outputs": [
    {
     "data": {
      "text/plain": [
       "array([1, 0, 2, 0, 0, 2, 2, 0, 2, 0, 2, 0, 2, 0, 0, 0, 0, 2, 2, 2, 2, 0,\n",
       "       2, 2, 1, 0, 0, 2, 2, 0, 1, 0, 1, 0, 2, 2, 0, 0, 2, 0, 0, 2, 2, 0,\n",
       "       1, 0, 2, 0, 2, 0, 0, 2, 2, 2, 0, 2, 1, 0, 1, 2, 0, 0, 2, 0, 2, 1,\n",
       "       1, 2, 2, 1, 2, 2, 0, 1, 2, 2, 0, 2, 2, 0, 0, 2, 2, 0, 2, 0, 0, 2,\n",
       "       2, 1, 0, 2, 2, 2, 1, 2, 0, 0, 2, 1, 0, 1, 1, 2, 0, 2, 0, 0, 2, 2,\n",
       "       1, 2, 2, 1, 0, 2, 0, 0, 2, 1, 2, 2, 1, 1, 1, 0, 2, 0, 2, 2, 1, 2,\n",
       "       0, 0, 0, 0, 0, 1, 2, 0, 2, 1, 1, 2, 2, 1, 1, 2, 1, 1, 2, 2, 2, 2,\n",
       "       0, 2, 0, 2, 1, 0, 0, 2, 2, 2, 1, 2, 2, 0, 1, 0, 0, 2, 2, 0, 0, 0,\n",
       "       1, 2, 1, 0, 1, 2, 0, 1, 0, 0, 2, 0, 0, 0, 0, 0, 0, 0, 2, 1, 2, 1,\n",
       "       2, 0, 0, 2, 0, 2, 2, 2, 1, 2, 2, 0, 1, 2, 2, 2, 2, 2, 2, 0, 2, 1,\n",
       "       1, 2, 2, 0, 2, 0, 2, 0, 2, 1, 2, 0, 2, 2, 0, 0, 0, 2, 0, 0, 2, 2,\n",
       "       2, 1, 2, 0, 0, 0, 2, 0, 0, 0, 2, 2, 0, 2, 2, 0, 1, 1, 2, 2, 2, 2,\n",
       "       0])"
      ]
     },
     "execution_count": 37,
     "metadata": {},
     "output_type": "execute_result"
    }
   ],
   "source": [
    "from sklearn.ensemble import RandomForestClassifier\n",
    "rfc = RandomForestClassifier(n_estimators=20, criterion='gini',max_depth=5,max_features=3)\n",
    "rfc.fit(x_train,y_train)\n",
    "y_pred5 = rfc.predict(x_test)\n",
    "y_pred5"
   ]
  },
  {
   "cell_type": "code",
   "execution_count": 38,
   "id": "c8eff0e9",
   "metadata": {},
   "outputs": [
    {
     "data": {
      "text/plain": [
       "0.8905660377358491"
      ]
     },
     "execution_count": 38,
     "metadata": {},
     "output_type": "execute_result"
    }
   ],
   "source": [
    "from sklearn.metrics import accuracy_score\n",
    "sc7=accuracy_score(y_test, y_pred5) \n",
    "sc7"
   ]
  },
  {
   "cell_type": "code",
   "execution_count": 39,
   "id": "81a1660e",
   "metadata": {},
   "outputs": [
    {
     "data": {
      "text/plain": [
       "0.24528301886792453"
      ]
     },
     "execution_count": 39,
     "metadata": {},
     "output_type": "execute_result"
    }
   ],
   "source": [
    "from sklearn.metrics import mean_squared_error\n",
    "mse7 = mean_squared_error(y_test,y_pred5)\n",
    "mse7"
   ]
  },
  {
   "cell_type": "markdown",
   "id": "c46afbaf",
   "metadata": {},
   "source": [
    "# xgboost"
   ]
  },
  {
   "cell_type": "code",
   "execution_count": 40,
   "id": "fa6e873a",
   "metadata": {},
   "outputs": [
    {
     "name": "stdout",
     "output_type": "stream",
     "text": [
      "Requirement already satisfied: xgboost in e:\\jupiter\\lib\\site-packages (1.5.1)\n",
      "Requirement already satisfied: numpy in e:\\jupiter\\lib\\site-packages (from xgboost) (1.20.1)\n",
      "Requirement already satisfied: scipy in e:\\jupiter\\lib\\site-packages (from xgboost) (1.6.2)\n",
      "Note: you may need to restart the kernel to use updated packages.\n"
     ]
    }
   ],
   "source": [
    "pip install xgboost"
   ]
  },
  {
   "cell_type": "code",
   "execution_count": 41,
   "id": "e105359a",
   "metadata": {},
   "outputs": [
    {
     "name": "stderr",
     "output_type": "stream",
     "text": [
      "E:\\jupiter\\lib\\site-packages\\xgboost\\sklearn.py:1224: UserWarning: The use of label encoder in XGBClassifier is deprecated and will be removed in a future release. To remove this warning, do the following: 1) Pass option use_label_encoder=False when constructing XGBClassifier object; and 2) Encode your labels (y) as integers starting with 0, i.e. 0, 1, 2, ..., [num_class - 1].\n",
      "  warnings.warn(label_encoder_deprecation_msg, UserWarning)\n"
     ]
    },
    {
     "name": "stdout",
     "output_type": "stream",
     "text": [
      "[11:45:39] WARNING: C:/Users/Administrator/workspace/xgboost-win64_release_1.5.1/src/learner.cc:1115: Starting in XGBoost 1.3.0, the default evaluation metric used with the objective 'multi:softprob' was changed from 'merror' to 'mlogloss'. Explicitly set eval_metric if you'd like to restore the old behavior.\n"
     ]
    },
    {
     "data": {
      "text/plain": [
       "array([1, 0, 2, 0, 0, 2, 2, 0, 2, 0, 2, 0, 2, 0, 0, 0, 0, 0, 2, 2, 2, 0,\n",
       "       2, 2, 1, 0, 0, 2, 2, 0, 1, 0, 1, 0, 2, 2, 0, 0, 2, 0, 0, 2, 2, 0,\n",
       "       1, 0, 2, 0, 2, 0, 0, 2, 2, 2, 0, 2, 0, 0, 1, 2, 0, 0, 2, 0, 2, 1,\n",
       "       1, 2, 2, 1, 2, 2, 0, 1, 2, 2, 0, 2, 2, 0, 0, 2, 2, 0, 2, 0, 0, 2,\n",
       "       2, 1, 0, 2, 2, 2, 1, 2, 0, 0, 2, 1, 0, 0, 1, 2, 0, 2, 0, 0, 2, 2,\n",
       "       0, 2, 2, 1, 0, 2, 0, 0, 2, 0, 2, 2, 1, 1, 1, 0, 2, 0, 2, 2, 1, 2,\n",
       "       0, 0, 0, 0, 2, 1, 2, 0, 2, 1, 0, 2, 2, 1, 1, 2, 1, 1, 2, 2, 2, 2,\n",
       "       0, 2, 0, 2, 1, 0, 0, 2, 2, 2, 1, 2, 2, 0, 0, 0, 0, 2, 2, 0, 0, 0,\n",
       "       1, 2, 1, 0, 1, 2, 0, 0, 0, 0, 2, 0, 0, 0, 0, 0, 0, 0, 2, 1, 2, 1,\n",
       "       2, 0, 0, 2, 0, 2, 2, 2, 1, 2, 2, 0, 1, 2, 2, 2, 2, 2, 2, 0, 2, 1,\n",
       "       1, 2, 2, 0, 2, 0, 2, 2, 2, 1, 2, 0, 2, 2, 0, 0, 0, 2, 0, 0, 2, 2,\n",
       "       2, 0, 2, 0, 0, 0, 2, 0, 0, 0, 2, 2, 0, 2, 2, 0, 0, 0, 2, 2, 2, 2,\n",
       "       0])"
      ]
     },
     "execution_count": 41,
     "metadata": {},
     "output_type": "execute_result"
    }
   ],
   "source": [
    "from xgboost import XGBClassifier\n",
    "model1 = XGBClassifier()\n",
    "model1.fit(x_train,y_train)\n",
    "y_pred6 = model1.predict(x_test)\n",
    "y_pred6"
   ]
  },
  {
   "cell_type": "code",
   "execution_count": 42,
   "id": "a647ec49",
   "metadata": {},
   "outputs": [
    {
     "data": {
      "text/plain": [
       "0.8566037735849057"
      ]
     },
     "execution_count": 42,
     "metadata": {},
     "output_type": "execute_result"
    }
   ],
   "source": [
    "from sklearn.metrics import accuracy_score\n",
    "sc8=accuracy_score(y_test, y_pred6) \n",
    "sc8"
   ]
  },
  {
   "cell_type": "code",
   "execution_count": 43,
   "id": "ee3ff757",
   "metadata": {},
   "outputs": [
    {
     "data": {
      "text/plain": [
       "0.3132075471698113"
      ]
     },
     "execution_count": 43,
     "metadata": {},
     "output_type": "execute_result"
    }
   ],
   "source": [
    "from sklearn.metrics import mean_squared_error\n",
    "mse8 = mean_squared_error(y_test,y_pred6)\n",
    "mse8"
   ]
  },
  {
   "cell_type": "code",
   "execution_count": null,
   "id": "a720cead",
   "metadata": {},
   "outputs": [],
   "source": []
  }
 ],
 "metadata": {
  "kernelspec": {
   "display_name": "Python 3 (ipykernel)",
   "language": "python",
   "name": "python3"
  },
  "language_info": {
   "codemirror_mode": {
    "name": "ipython",
    "version": 3
   },
   "file_extension": ".py",
   "mimetype": "text/x-python",
   "name": "python",
   "nbconvert_exporter": "python",
   "pygments_lexer": "ipython3",
   "version": "3.9.7"
  }
 },
 "nbformat": 4,
 "nbformat_minor": 5
}
